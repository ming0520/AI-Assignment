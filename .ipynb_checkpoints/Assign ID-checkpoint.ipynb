{
 "cells": [
  {
   "cell_type": "code",
   "execution_count": 1,
   "metadata": {},
   "outputs": [],
   "source": [
    "import pandas as pd"
   ]
  },
  {
   "cell_type": "code",
   "execution_count": 20,
   "metadata": {},
   "outputs": [],
   "source": [
    "df_data= pd.read_csv(\"20201018_v2_lower_clean_brand_only.csv\") \n",
    "brand_list = pd.read_excel(\"brand_list.xlsx\")\n",
    "\n",
    "feature = ['colour','layout','profile','place','backlight','switch','dream_kb']\n",
    "id_list = pd.ExcelFile('id_list.xlsx')\n",
    "feature_list = {}\n",
    "for i in feature:\n",
    "    feature_list[i] = pd.read_excel(id_list, i)"
   ]
  },
  {
   "cell_type": "code",
   "execution_count": 21,
   "metadata": {
    "scrolled": true
   },
   "outputs": [],
   "source": [
    "# df2['movie_id'] = df2['movie_id'].map(df1.set_index('ID')['MOVIE NAME (YEAR)'])\n",
    "# print (df2)\n",
    "df_data['top3_1'] = df_data['top3_1'].map(brand_list.set_index('top3')['id'])\n",
    "df_data['top3_2'] = df_data['top3_2'].map(brand_list.set_index('top3')['id'])\n",
    "df_data['top3_3'] = df_data['top3_3'].map(brand_list.set_index('top3')['id'])\n",
    "df_data['using'] = df_data['using'].map(brand_list.set_index('top3')['id'])\n",
    "for i in feature_list:\n",
    "    df_data[i] = df_data[i].map(feature_list[i].set_index(i)['id'])\n",
    "# df_data['profile'] = df_data['profile'].map(feature_list['profile'].set_index('profile')['id'])"
   ]
  },
  {
   "cell_type": "code",
   "execution_count": 22,
   "metadata": {},
   "outputs": [],
   "source": [
    "# df_data.to_csv(\"train.csv\", header=False, index=False, float_format='%.4f')\n",
    "df_data.to_csv(\"train.csv\", index=False, float_format='%.4f')"
   ]
  }
 ],
 "metadata": {
  "kernelspec": {
   "display_name": "Python 3",
   "language": "python",
   "name": "python3"
  },
  "language_info": {
   "codemirror_mode": {
    "name": "ipython",
    "version": 3
   },
   "file_extension": ".py",
   "mimetype": "text/x-python",
   "name": "python",
   "nbconvert_exporter": "python",
   "pygments_lexer": "ipython3",
   "version": "3.7.6"
  }
 },
 "nbformat": 4,
 "nbformat_minor": 4
}
