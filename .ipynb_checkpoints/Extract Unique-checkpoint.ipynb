{
 "cells": [
  {
   "cell_type": "code",
   "execution_count": 1,
   "metadata": {},
   "outputs": [],
   "source": [
    "import pandas as pd\n",
    "file_name = \"20201018_v2_lower_clean_brand_only\"\n",
    "file_type = \".csv\"\n",
    "ds= pd.read_csv(f'{file_name}{file_type}') \n",
    "ds_header = ds.columns.tolist()"
   ]
  },
  {
   "cell_type": "code",
   "execution_count": 2,
   "metadata": {},
   "outputs": [],
   "source": [
    "def export_unique():\n",
    "    ds_unique = {}\n",
    "    for i in ds_header:\n",
    "        print(\"Unique for\", i)\n",
    "        print(ds[i].unique())\n",
    "        ds_unique[i] = ds[i].unique()\n",
    "        print(\"===End==\\n\")\n",
    "        # pd.DataFrame(ds_unique['colour'], columns=['colour'])\n",
    "    df_list = []\n",
    "    for i in ds_header:\n",
    "        df = pd.DataFrame(ds_unique[i], columns=[i])\n",
    "        df_list.append(df)\n",
    "    #     df.to_csv(f'{i}.csv')\n",
    "    writer = pd.ExcelWriter(f'{file_name}_Unique.xlsx')\n",
    "    for i, df in enumerate(df_list):\n",
    "         df.to_excel(writer,f'{ds_header[i]}')\n",
    "    writer.save()    "
   ]
  },
  {
   "cell_type": "code",
   "execution_count": 3,
   "metadata": {},
   "outputs": [],
   "source": [
    "def export_unique_count():\n",
    "    # print(ds.groupby('colour')['colour'].count())\n",
    "    count_list = []\n",
    "    for i in ds:\n",
    "    #     print(ds.groupby(i)[i].count())\n",
    "        count_list.append(pd.DataFrame(ds.groupby(i)[i].count()))\n",
    "    writer = pd.ExcelWriter(f'{file_name}_CountList.xlsx')\n",
    "    for i, df in enumerate(count_list):\n",
    "         df.to_excel(writer,f'{ds_header[i]}')\n",
    "    writer.save()    "
   ]
  },
  {
   "cell_type": "code",
   "execution_count": 4,
   "metadata": {},
   "outputs": [
    {
     "name": "stdout",
     "output_type": "stream",
     "text": [
      "Unique for top3\n",
      "['keycult' 'ducky' 'cyberboard' 'discipline' 'logitech' 'gk' 'hyperx'\n",
      " 'hubble' 'kbd' 'topre' 'melody' 'leopold' 'tofu' '-99' 'tgr' 'rama'\n",
      " 'ramat' 'razer' 'rog' 'steelseries' 'hhkb' 'phantomtecware' 'anne'\n",
      " 'kemove' 'keychron' 'vega' 'custom' 'ibmmodelm' 'corsair' 'fuji' 'kbdfan'\n",
      " 'targus' 'nk' 'singa' 'vortex' 'rogtkl' 'keeblade' 'wormier' 'arisu'\n",
      " 'vortexgear' 'rk' 'reddragon' 'constellation' 'fantech' 'apple'\n",
      " 'norbatouch' 'otd' 'realforce' 'asus' 'coolermastert' 'gskill' 'filco'\n",
      " 'dz']\n",
      "===End==\n",
      "\n"
     ]
    }
   ],
   "source": [
    "export_unique()\n",
    "export_unique_count()"
   ]
  },
  {
   "cell_type": "code",
   "execution_count": 5,
   "metadata": {},
   "outputs": [],
   "source": [
    "# df1 = ds['top3_1']\n",
    "# df2 = ds['top3_2']\n",
    "# df3 = ds['top3_3']\n",
    "# df1 = df1.append(df2)\n",
    "# df1 = df1.append(df2)\n",
    "# result.to_csv(\"test.csv\")"
   ]
  }
 ],
 "metadata": {
  "kernelspec": {
   "display_name": "Python 3",
   "language": "python",
   "name": "python3"
  },
  "language_info": {
   "codemirror_mode": {
    "name": "ipython",
    "version": 3
   },
   "file_extension": ".py",
   "mimetype": "text/x-python",
   "name": "python",
   "nbconvert_exporter": "python",
   "pygments_lexer": "ipython3",
   "version": "3.7.6"
  }
 },
 "nbformat": 4,
 "nbformat_minor": 4
}
