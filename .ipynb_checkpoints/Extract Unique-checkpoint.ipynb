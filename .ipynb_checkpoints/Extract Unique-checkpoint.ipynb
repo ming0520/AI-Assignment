{
 "cells": [
  {
   "cell_type": "code",
   "execution_count": 1,
   "metadata": {},
   "outputs": [],
   "source": [
    "import pandas as pd\n",
    "file_path = \"./Data/20201018\"\n",
    "file_name = \"20201018_v2_lower_clean_brand\"\n",
    "file_type = \".csv\"\n",
    "ds= pd.read_csv(f'{file_path}/{file_name}{file_type}')"
   ]
  },
  {
   "cell_type": "code",
   "execution_count": 2,
   "metadata": {},
   "outputs": [],
   "source": [
    "ds_header = ds.columns.tolist()"
   ]
  },
  {
   "cell_type": "code",
   "execution_count": 3,
   "metadata": {},
   "outputs": [
    {
     "name": "stdout",
     "output_type": "stream",
     "text": [
      "Unique for colour\n",
      "['red' 'black' 'green' 'blue' 'non' 'white' 'white ' 'purple' 'yellow'\n",
      " 'grey' 'cyan' 'orange' 'pink']\n",
      "===End==\n",
      "\n",
      "Unique for layout\n",
      "['compact, 75%' 'tkl, 87%-88% (87-88 key)'\n",
      " 'full size, 100% (more than 104 key)' 'super compact, 60%' '65%']\n",
      "===End==\n",
      "\n",
      "Unique for profile\n",
      "['low profile (slim)' 'non low-profile']\n",
      "===End==\n",
      "\n",
      "Unique for place\n",
      "[nan 'office' 'e-sport' 'home' 'everywhere']\n",
      "===End==\n",
      "\n",
      "Unique for backlight\n",
      "['yes' 'no' 'maybe']\n",
      "===End==\n",
      "\n",
      "Unique for switch\n",
      "[nan 'linear - red - fast, quite, light' 'tactile'\n",
      " 'linear - black - fast, quite, heavy' 'clicky - blue' 'optical switch']\n",
      "===End==\n",
      "\n",
      "Unique for using\n",
      "[nan 'norbatouch' 'gk60' 'razer' 'tofu65' 'phantomtecwaretkl' 'hhkb'\n",
      " 'kemove60' 'tofu60' 'logitech100' 'ducky60' 'tecwarephantomtkl']\n",
      "===End==\n",
      "\n",
      "Unique for top3_1\n",
      "['rog100' 'hyperx' 'logitech wireless' 'logitechtkl' 'logitech' 'razer'\n",
      " 'topretkl' 'ramatkl' 'duckytkl' 'leopold100' 'tgr' 'rama60' 'logitech100'\n",
      " 'melody96' 'cyberboard' nan 'topre100' 'keycult' 'keychron75' 'tofu65'\n",
      " 'cyberboard,' 'tofu60' 'kbd75' 'leopold' 'hubble65' 'anne60'\n",
      " 'steelseries100' 'hhkb' 'kemove60' 'gk60' 'ducky60' 'discipline65'\n",
      " 'phantomtecwaretkl']\n",
      "===End==\n",
      "\n",
      "Unique for top3_2\n",
      "['rogtkl' 'razer' 'logitech combo' 'logitech100low' 'targus' nan 'ducky'\n",
      " 'hhkb60' 'leopold65' 'custom' 'logitech' 'kbdfan75' 'singa' 'hhkb'\n",
      " 'phantomtecwaretkl' 'vega' 'gk60' 'keyculttkl' 'vortexgear75' 'arisu'\n",
      " 'corsair100' 'nk65' 'fuji65' 'tofu65' 'keeblade' 'anne60' 'vortex60'\n",
      " 'ibmmodelm' 'wormier65']\n",
      "===End==\n",
      "\n",
      "Unique for top3_3\n",
      "['rog100' 'reddragon' 'apple magic keyboard' 'logitech100' 'fantech' nan\n",
      " 'filco' 'realforcetkl' 'tofu65' 'razer100' 'asus' 'otd' 'keycult'\n",
      " 'gskilltkl' 'keyculttkl' 'razer60' 'leopold65' 'tgr60' 'rama65' 'ducky60'\n",
      " 'singa' 'rk60' 'gk65' 'gk60' 'norbatouch' 'constellation'\n",
      " 'coolermastertkl' 'tofu60' 'dz60' 'custom' 'hhkb']\n",
      "===End==\n",
      "\n",
      "Unique for dream_kb\n",
      "['rog strix flare pnk ltd' 'hyperx' 'logitech wireless k400 plus'\n",
      " 'logitech g915' 'logitech k400'\n",
      " 'razer blackwidow v3 pro wireless mechanical gaming keyboard - black'\n",
      " 'topre ivory 55g tkl' 'rama u80-a' 'custom' 'razer hutsman mini'\n",
      " 'keycult no.2' 'otd 356cl' 'rama m60'\n",
      " 'tecware phantom elite with gateron yellows' 'keycult no. 1/65 rev. 1'\n",
      " 'cyberboard' 'keycult no2/65' 'keycult no. 1 rev. 2 tkl' 'ai03 vega'\n",
      " 'vortexgear race 3' 'tgr x singa' 'gk68xs with cream switch' 'nk65v2'\n",
      " 'kbd75' 'norbaforce' 'iron165 fe' 'keycult no1/65'\n",
      " 'steelseries apex pro tkl' 'satisfaction 75' 'tex shinobi' 'gk73'\n",
      " 'tofu60' 'rama60' 'keycult no.1/65' 'singa v3']\n",
      "===End==\n",
      "\n"
     ]
    }
   ],
   "source": [
    "ds_unique = {}\n",
    "for i in ds_header:\n",
    "    print(\"Unique for\", i)\n",
    "    print(ds[i].unique())\n",
    "    ds_unique[i] = ds[i].unique()\n",
    "    print(\"===End==\\n\")"
   ]
  },
  {
   "cell_type": "code",
   "execution_count": 4,
   "metadata": {},
   "outputs": [
    {
     "name": "stdout",
     "output_type": "stream",
     "text": [
      "{'colour': array(['red', 'black', 'green', 'blue', 'non', 'white', 'white ',\n",
      "       'purple', 'yellow', 'grey', 'cyan', 'orange', 'pink'], dtype=object), 'layout': array(['compact, 75%', 'tkl, 87%-88% (87-88 key)',\n",
      "       'full size, 100% (more than 104 key)', 'super compact, 60%', '65%'],\n",
      "      dtype=object), 'profile': array(['low profile (slim)', 'non low-profile'], dtype=object), 'place': array([nan, 'office', 'e-sport', 'home', 'everywhere'], dtype=object), 'backlight': array(['yes', 'no', 'maybe'], dtype=object), 'switch': array([nan, 'linear - red - fast, quite, light', 'tactile',\n",
      "       'linear - black - fast, quite, heavy', 'clicky - blue',\n",
      "       'optical switch'], dtype=object), 'using': array([nan, 'norbatouch', 'gk60', 'razer', 'tofu65', 'phantomtecwaretkl',\n",
      "       'hhkb', 'kemove60', 'tofu60', 'logitech100', 'ducky60',\n",
      "       'tecwarephantomtkl'], dtype=object), 'top3_1': array(['rog100', 'hyperx', 'logitech wireless', 'logitechtkl', 'logitech',\n",
      "       'razer', 'topretkl', 'ramatkl', 'duckytkl', 'leopold100', 'tgr',\n",
      "       'rama60', 'logitech100', 'melody96', 'cyberboard', nan, 'topre100',\n",
      "       'keycult', 'keychron75', 'tofu65', 'cyberboard,', 'tofu60',\n",
      "       'kbd75', 'leopold', 'hubble65', 'anne60', 'steelseries100', 'hhkb',\n",
      "       'kemove60', 'gk60', 'ducky60', 'discipline65', 'phantomtecwaretkl'],\n",
      "      dtype=object), 'top3_2': array(['rogtkl', 'razer', 'logitech combo', 'logitech100low', 'targus',\n",
      "       nan, 'ducky', 'hhkb60', 'leopold65', 'custom', 'logitech',\n",
      "       'kbdfan75', 'singa', 'hhkb', 'phantomtecwaretkl', 'vega', 'gk60',\n",
      "       'keyculttkl', 'vortexgear75', 'arisu', 'corsair100', 'nk65',\n",
      "       'fuji65', 'tofu65', 'keeblade', 'anne60', 'vortex60', 'ibmmodelm',\n",
      "       'wormier65'], dtype=object), 'top3_3': array(['rog100', 'reddragon', 'apple magic keyboard', 'logitech100',\n",
      "       'fantech', nan, 'filco', 'realforcetkl', 'tofu65', 'razer100',\n",
      "       'asus', 'otd', 'keycult', 'gskilltkl', 'keyculttkl', 'razer60',\n",
      "       'leopold65', 'tgr60', 'rama65', 'ducky60', 'singa', 'rk60', 'gk65',\n",
      "       'gk60', 'norbatouch', 'constellation', 'coolermastertkl', 'tofu60',\n",
      "       'dz60', 'custom', 'hhkb'], dtype=object), 'dream_kb': array(['rog strix flare pnk ltd', 'hyperx', 'logitech wireless k400 plus',\n",
      "       'logitech g915', 'logitech k400',\n",
      "       'razer blackwidow v3 pro wireless mechanical gaming keyboard - black',\n",
      "       'topre ivory 55g tkl', 'rama u80-a', 'custom',\n",
      "       'razer hutsman mini', 'keycult no.2', 'otd 356cl', 'rama m60',\n",
      "       'tecware phantom elite with gateron yellows',\n",
      "       'keycult no. 1/65 rev. 1', 'cyberboard', 'keycult no2/65',\n",
      "       'keycult no. 1 rev. 2 tkl', 'ai03 vega', 'vortexgear race 3',\n",
      "       'tgr x singa', 'gk68xs with cream switch', 'nk65v2', 'kbd75',\n",
      "       'norbaforce', 'iron165 fe', 'keycult no1/65',\n",
      "       'steelseries apex pro tkl', 'satisfaction 75', 'tex shinobi',\n",
      "       'gk73', 'tofu60', 'rama60', 'keycult no.1/65', 'singa v3'],\n",
      "      dtype=object)}\n"
     ]
    }
   ],
   "source": [
    "print(ds_unique)"
   ]
  },
  {
   "cell_type": "code",
   "execution_count": 5,
   "metadata": {},
   "outputs": [],
   "source": [
    "# pd.DataFrame(ds_unique['colour'], columns=['colour'])\n",
    "df_list = []\n",
    "for i in ds_header:\n",
    "    df = pd.DataFrame(ds_unique[i], columns=[i])\n",
    "    df_list.append(df)\n",
    "#     df.to_csv(f'{i}.csv')"
   ]
  },
  {
   "cell_type": "code",
   "execution_count": 6,
   "metadata": {},
   "outputs": [],
   "source": [
    "writer = pd.ExcelWriter(f'{file_name}_Unique.xlsx')\n",
    "for i, df in enumerate(df_list):\n",
    "     df.to_excel(writer,f'{ds_header[i]}')\n",
    "writer.save()"
   ]
  },
  {
   "cell_type": "code",
   "execution_count": null,
   "metadata": {},
   "outputs": [],
   "source": []
  }
 ],
 "metadata": {
  "kernelspec": {
   "display_name": "Python 3",
   "language": "python",
   "name": "python3"
  },
  "language_info": {
   "codemirror_mode": {
    "name": "ipython",
    "version": 3
   },
   "file_extension": ".py",
   "mimetype": "text/x-python",
   "name": "python",
   "nbconvert_exporter": "python",
   "pygments_lexer": "ipython3",
   "version": "3.7.6"
  }
 },
 "nbformat": 4,
 "nbformat_minor": 4
}
